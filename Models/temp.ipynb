{
 "cells": [
  {
   "cell_type": "code",
   "execution_count": 2,
   "metadata": {},
   "outputs": [
    {
     "name": "stdout",
     "output_type": "stream",
     "text": [
      "tensor([[[245, 246, 245,  ..., 119, 117, 116],\n",
      "         [246, 246, 246,  ..., 118, 117, 116],\n",
      "         [246, 247, 247,  ..., 119, 117, 117],\n",
      "         ...,\n",
      "         [253, 253, 253,  ..., 118, 115, 114],\n",
      "         [253, 253, 252,  ..., 116, 114, 113],\n",
      "         [253, 253, 253,  ..., 115, 114, 111]],\n",
      "\n",
      "        [[241, 242, 240,  ..., 107, 105, 104],\n",
      "         [242, 241, 241,  ..., 106, 105, 105],\n",
      "         [242, 243, 242,  ..., 108, 107, 106],\n",
      "         ...,\n",
      "         [248, 248, 248,  ..., 108, 107, 106],\n",
      "         [248, 248, 247,  ..., 107, 106, 104],\n",
      "         [248, 247, 248,  ..., 106, 105, 103]],\n",
      "\n",
      "        [[209, 210, 208,  ...,  98,  95,  94],\n",
      "         [209, 209, 207,  ...,  96,  94,  95],\n",
      "         [208, 208, 208,  ...,  99,  97,  96],\n",
      "         ...,\n",
      "         [223, 223, 224,  ...,  85,  85,  85],\n",
      "         [223, 225, 223,  ...,  85,  85,  85],\n",
      "         [225, 226, 225,  ...,  85,  85,  84]],\n",
      "\n",
      "        [[255, 255, 255,  ..., 255, 255, 255],\n",
      "         [255, 255, 255,  ..., 255, 255, 255],\n",
      "         [255, 255, 255,  ..., 255, 255, 255],\n",
      "         ...,\n",
      "         [255, 255, 255,  ..., 255, 255, 255],\n",
      "         [255, 255, 255,  ..., 255, 255, 255],\n",
      "         [255, 255, 255,  ..., 255, 255, 255]]], device='cuda:0',\n",
      "       dtype=torch.uint8)\n"
     ]
    }
   ],
   "source": [
    "from torchvision.io import read_image\n",
    "print(read_image(\"W:/Projects/FaceRecognition/Models/Datasets/FaceRecognition/labels-5/100000/0.png\").to(\"cuda\"))"
   ]
  },
  {
   "cell_type": "code",
   "execution_count": null,
   "metadata": {},
   "outputs": [],
   "source": []
  }
 ],
 "metadata": {
  "kernelspec": {
   "display_name": "Python 3",
   "language": "python",
   "name": "python3"
  },
  "language_info": {
   "codemirror_mode": {
    "name": "ipython",
    "version": 3
   },
   "file_extension": ".py",
   "mimetype": "text/x-python",
   "name": "python",
   "nbconvert_exporter": "python",
   "pygments_lexer": "ipython3",
   "version": "3.11.4"
  }
 },
 "nbformat": 4,
 "nbformat_minor": 2
}
