{
 "cells": [
  {
   "cell_type": "code",
   "execution_count": null,
   "metadata": {},
   "outputs": [],
   "source": [
    "a = [1, 2, 3, 5 ,8]\n",
    "print(a[:2])"
   ]
  },
  {
   "cell_type": "code",
   "execution_count": null,
   "metadata": {},
   "outputs": [],
   "source": []
  },
  {
   "cell_type": "code",
   "execution_count": null,
   "metadata": {},
   "outputs": [],
   "source": []
  },
  {
   "cell_type": "code",
   "execution_count": null,
   "metadata": {},
   "outputs": [],
   "source": []
  },
  {
   "cell_type": "code",
   "execution_count": null,
   "metadata": {},
   "outputs": [],
   "source": [
    "def a():\n",
    "    for i in range(100):\n",
    "        yield 1\n",
    "itr = a()\n",
    "print(next(itr))"
   ]
  },
  {
   "cell_type": "code",
   "execution_count": null,
   "metadata": {},
   "outputs": [],
   "source": [
    "next(itr)"
   ]
  },
  {
   "cell_type": "code",
   "execution_count": null,
   "metadata": {},
   "outputs": [],
   "source": [
    "next(itr)"
   ]
  },
  {
   "cell_type": "code",
   "execution_count": null,
   "metadata": {},
   "outputs": [],
   "source": [
    "itr.__new__()"
   ]
  },
  {
   "cell_type": "code",
   "execution_count": null,
   "metadata": {},
   "outputs": [],
   "source": [
    "from torchvision.io import read_image"
   ]
  },
  {
   "cell_type": "code",
   "execution_count": null,
   "metadata": {},
   "outputs": [],
   "source": []
  },
  {
   "cell_type": "code",
   "execution_count": null,
   "metadata": {},
   "outputs": [],
   "source": []
  },
  {
   "cell_type": "code",
   "execution_count": null,
   "metadata": {},
   "outputs": [],
   "source": []
  },
  {
   "cell_type": "code",
   "execution_count": null,
   "metadata": {},
   "outputs": [],
   "source": []
  },
  {
   "cell_type": "code",
   "execution_count": null,
   "metadata": {},
   "outputs": [],
   "source": [
    "import torch\n",
    "import torch.nn as nn\n",
    "\n",
    "class InceptionModule(nn.Module):\n",
    "    def __init__(self, in_channels, out_1x1, red_3x3, out_3x3, red_5x5, out_5x5, out_pool):\n",
    "        super(InceptionModule, self).__init__()\n",
    "\n",
    "        # 1x1 convolution branch\n",
    "        self.branch1x1 = nn.Conv2d(in_channels, out_1x1, kernel_size=1)\n",
    "\n",
    "        # 3x3 convolution branch\n",
    "        self.branch3x3 = nn.Sequential(\n",
    "            nn.Conv2d(in_channels, red_3x3, kernel_size=1),\n",
    "            nn.Conv2d(red_3x3, out_3x3, kernel_size=3, padding=1)\n",
    "        )\n",
    "\n",
    "        # 5x5 convolution branch\n",
    "        self.branch5x5 = nn.Sequential(\n",
    "            nn.Conv2d(in_channels, red_5x5, kernel_size=1),\n",
    "            nn.Conv2d(red_5x5, out_5x5, kernel_size=5, padding=2)\n",
    "        )\n",
    "\n",
    "        # Max pooling branch\n",
    "        self.branch_pool = nn.Sequential(\n",
    "            nn.MaxPool2d(kernel_size=3, stride=1, padding=1),\n",
    "            nn.Conv2d(in_channels, out_pool, kernel_size=1)\n",
    "        )\n",
    "\n",
    "    def forward(self, x):\n",
    "        # Forward pass through each branch and concatenate the outputs\n",
    "        branch1x1 = self.branch1x1(x)\n",
    "        branch3x3 = self.branch3x3(x)\n",
    "        branch5x5 = self.branch5x5(x)\n",
    "        branch_pool = self.branch_pool(x)\n",
    "\n",
    "        # Concatenate along the channel dimension\n",
    "        outputs = [branch1x1, branch3x3, branch5x5, branch_pool]\n",
    "        op = torch.cat(outputs, 1)\n",
    "        print(op.shape)\n",
    "        return op\n",
    "    \n",
    "\n",
    "# Example usage:\n",
    "in_channels = 3  # Input channels (e.g., for an RGB image)\n",
    "out_1x1 = 64\n",
    "red_3x3 = 128\n",
    "out_3x3 = 192\n",
    "red_5x5 = 32\n",
    "out_5x5 = 96\n",
    "out_pool = 64\n",
    "\n",
    "inception_module = InceptionModule(in_channels, out_1x1, red_3x3, out_3x3, red_5x5, out_5x5, out_pool)\n",
    "\n",
    "# Example input tensor\n",
    "input_tensor = torch.randn(1, in_channels, 224, 224)\n",
    "\n",
    "# Forward pass through the Inception module\n",
    "output_tensor = inception_module(input_tensor)\n",
    "\n",
    "print(\"Input shape:\", input_tensor.shape)\n",
    "print(\"Output shape:\", output_tensor.shape)\n"
   ]
  },
  {
   "cell_type": "code",
   "execution_count": null,
   "metadata": {},
   "outputs": [],
   "source": []
  },
  {
   "cell_type": "code",
   "execution_count": null,
   "metadata": {},
   "outputs": [],
   "source": []
  },
  {
   "cell_type": "code",
   "execution_count": null,
   "metadata": {},
   "outputs": [],
   "source": []
  },
  {
   "cell_type": "code",
   "execution_count": null,
   "metadata": {},
   "outputs": [],
   "source": [
    "import torch\n",
    "import torch.nn as nn\n",
    "import torch.nn.functional as F\n",
    "import numpy as np\n",
    "\n",
    "class InceptionModule(nn.Module):\n",
    "    def __init__(self, in_channels, out_1x1, red_3x3, out_3x3, red_5x5, out_5x5, out_pool, fc_units):\n",
    "        super(InceptionModule, self).__init__()\n",
    "\n",
    "        # 1x1 convolution branch\n",
    "        self.branch1x1 = nn.Conv2d(in_channels, out_1x1, kernel_size=1)\n",
    "\n",
    "        # 3x3 convolution branch\n",
    "        self.branch3x3 = nn.Sequential(\n",
    "            nn.Conv2d(in_channels, red_3x3, kernel_size=1),\n",
    "            nn.Conv2d(red_3x3, out_3x3, kernel_size=3, padding=1)\n",
    "        )\n",
    "\n",
    "        # 5x5 convolution branch\n",
    "        self.branch5x5 = nn.Sequential(\n",
    "            nn.Conv2d(in_channels, red_5x5, kernel_size=1),\n",
    "            nn.Conv2d(red_5x5, out_5x5, kernel_size=5, padding=2)\n",
    "        )\n",
    "\n",
    "        # Max pooling branch\n",
    "        self.branch_pool = nn.Sequential(\n",
    "            nn.MaxPool2d(kernel_size=3, stride=1, padding=1),\n",
    "            nn.Conv2d(in_channels, out_pool, kernel_size=1)\n",
    "        )\n",
    "\n",
    "        # Fully connected layer\n",
    "        self.fc = nn.Linear(out_1x1 + out_3x3 + out_5x5 + out_pool, fc_units)\n",
    "\n",
    "    def forward(self, x):\n",
    "        # Forward pass through each branch\n",
    "        branch1x1 = self.branch1x1(x)\n",
    "        branch3x3 = self.branch3x3(x)\n",
    "        branch5x5 = self.branch5x5(x)\n",
    "        branch_pool = self.branch_pool(x)\n",
    "\n",
    "        # Concatenate along the channel dimension\n",
    "        concat_features = torch.cat([branch1x1, branch3x3, branch5x5, branch_pool], 1)\n",
    "        print(concat_features.shape)\n",
    "        # Flatten the features before passing through the fully connected layer\n",
    "        flat_features = concat_features.view(concat_features.size(0), -1)\n",
    "        flat_features1 = torch.flatten(concat_features, 1)\n",
    "        flat_features1 = flat_features[np.newaxis, :]\n",
    "        print(flat_features.shape)\n",
    "        print(flat_features1.shape)\n",
    "\n",
    "        # Fully connected layer\n",
    "        fc_output = self.fc(flat_features)\n",
    "\n",
    "        return fc_output\n",
    "\n",
    "# Example usage:\n",
    "in_channels = 3  # Input channels (e.g., for an RGB image)\n",
    "out_1x1 = 64\n",
    "red_3x3 = 128\n",
    "out_3x3 = 192\n",
    "red_5x5 = 32\n",
    "out_5x5 = 96\n",
    "out_pool = 64\n",
    "fc_units = 256  # Number of units in the fully connected layer\n",
    "\n",
    "inception_module = InceptionModule(in_channels, out_1x1, red_3x3, out_3x3, red_5x5, out_5x5, out_pool, fc_units)\n",
    "\n",
    "# Example input tensor\n",
    "input_tensor = torch.randn(1, in_channels, 224, 224)\n",
    "\n",
    "# Forward pass through the Inception module\n",
    "output_tensor = inception_module(input_tensor)\n",
    "\n",
    "print(\"Input shape:\", input_tensor.shape)\n",
    "print(\"Output shape:\", output_tensor.shape)\n"
   ]
  },
  {
   "cell_type": "code",
   "execution_count": null,
   "metadata": {},
   "outputs": [],
   "source": []
  },
  {
   "cell_type": "code",
   "execution_count": null,
   "metadata": {},
   "outputs": [],
   "source": [
    "import torch\n",
    "tensor = torch.randn(2, 3, 4, 2)\n",
    "print(tensor.size())\n",
    "print(tensor.view(3, -1))\n",
    "print(tensor.view(3, -1).shape)\n",
    "print(torch.flatten(tensor, 2))\n",
    "print(torch.flatten(tensor, 2).shape)"
   ]
  },
  {
   "cell_type": "code",
   "execution_count": null,
   "metadata": {},
   "outputs": [],
   "source": []
  },
  {
   "cell_type": "code",
   "execution_count": null,
   "metadata": {},
   "outputs": [],
   "source": []
  },
  {
   "cell_type": "code",
   "execution_count": null,
   "metadata": {},
   "outputs": [],
   "source": []
  },
  {
   "cell_type": "code",
   "execution_count": null,
   "metadata": {},
   "outputs": [],
   "source": [
    "from torchvision.io import read_image, ImageReadMode\n",
    "import numpy as np\n",
    "a = read_image(\"M:/2023_Predator_Alternative_Wallpaper_A New Beginning_3840x2160.png\", ImageReadMode.RGB)\n",
    "print(a.shape)\n",
    "a = a.permute(1, 2, 0)\n",
    "\n",
    "print(a.shape)\n",
    "a = np.array(a)\n",
    "import cv2\n",
    "a = cv2.cvtColor(a, cv2.COLOR_RGB2BGR)\n",
    "a = cv2.resize(a, (400, 400))\n",
    "cv2.imshow(\"img\", a)\n",
    "cv2.waitKey(1000)\n",
    "cv2.destroyAllWindows()\n",
    "\n",
    "from PIL import Image\n",
    "a = Image.open(\"M:/2023_Predator_Alternative_Wallpaper_A New Beginning_3840x2160.png\")\n",
    "a = a.convert(\"RGB\")\n",
    "display(a)\n",
    "print(a.size)\n",
    "\n",
    "\n",
    "\n",
    "a = cv2.imread(\"M:/2023_Predator_Alternative_Wallpaper_A New Beginning_3840x2160.png\")\n",
    "print(a.shape)\n",
    "print(a.size)"
   ]
  },
  {
   "cell_type": "code",
   "execution_count": null,
   "metadata": {},
   "outputs": [],
   "source": [
    "import torch\n",
    "import numpy as np\n",
    "import cv2\n",
    "a = torch.randn(100, 200, 3)\n",
    "# print(a)\n",
    "a = a.permute(2, 0, 1)\n",
    "print(a.shape)\n",
    "print(a)\n",
    "a = a.permute(1, 2, 0)\n",
    "a = np.array(a)\n",
    "cv2.imshow(\"img\", a)\n",
    "cv2.waitKey(1000)\n",
    "cv2.destroyAllWindows()"
   ]
  },
  {
   "cell_type": "code",
   "execution_count": null,
   "metadata": {},
   "outputs": [],
   "source": []
  },
  {
   "cell_type": "code",
   "execution_count": null,
   "metadata": {},
   "outputs": [],
   "source": [
    "a = read_image(\"M:/Datasets/FaceRecognition/labels-5/100016/0.png\")\n",
    "a.shape"
   ]
  },
  {
   "cell_type": "code",
   "execution_count": null,
   "metadata": {},
   "outputs": [],
   "source": [
    "print(a.shape)\n",
    "print(a)"
   ]
  },
  {
   "cell_type": "code",
   "execution_count": null,
   "metadata": {},
   "outputs": [],
   "source": [
    "import pandas as pd\n",
    "data = pd.read_csv(\"W:\\Projects\\FaceRecognition\\Models\\Data\\Dataset.csv\")\n",
    "bs = 12\n",
    "b = 8\n",
    "position = bs*(b-1)\n",
    "data.iloc[position:position+bs, :]"
   ]
  },
  {
   "cell_type": "code",
   "execution_count": null,
   "metadata": {},
   "outputs": [],
   "source": [
    "import pandas as pd\n",
    "data = pd.read_csv(\"W:\\Projects\\FaceRecognition\\Models\\Data\\Dataset.csv\")\n",
    "bs = 12\n",
    "b = 8\n",
    "position = bs*(b-1)\n",
    "data = data.iloc[position:position+bs, :]\n",
    "data[0]"
   ]
  },
  {
   "cell_type": "code",
   "execution_count": null,
   "metadata": {},
   "outputs": [],
   "source": [
    "import pandas as pd\n",
    "data = pd.read_csv(\"W:\\Projects\\FaceRecognition\\Models\\Data\\Dataset.csv\")\n",
    "bs = 12\n",
    "b = 8\n",
    "position = bs*(b-1)\n",
    "data.iloc[position:position+bs, :]\n",
    "data.head()"
   ]
  },
  {
   "cell_type": "code",
   "execution_count": null,
   "metadata": {},
   "outputs": [],
   "source": [
    "import pandas as pd\n",
    "data = pd.read_csv(\"W:\\Projects\\FaceRecognition\\Models\\Data\\Dataset.csv\")\n",
    "bs = 12\n",
    "b = 8\n",
    "position = bs*(b-1)\n",
    "data = data.iloc[position:position+bs, :]\n",
    "data.head()"
   ]
  },
  {
   "cell_type": "code",
   "execution_count": null,
   "metadata": {},
   "outputs": [],
   "source": [
    "data.iloc[0]"
   ]
  },
  {
   "cell_type": "code",
   "execution_count": null,
   "metadata": {},
   "outputs": [],
   "source": [
    "data.iloc[0]['Anchor']"
   ]
  },
  {
   "cell_type": "code",
   "execution_count": null,
   "metadata": {},
   "outputs": [],
   "source": [
    "import pandas as pd\n",
    "data = pd.read_csv(\"W:\\Projects\\FaceRecognition\\Models\\Data\\Dataset.csv\")\n",
    "bs = 12\n",
    "b = 8\n",
    "position = bs*(b-1)\n",
    "data = data.iloc[position:position+bs, :]\n",
    "data.head()\n",
    "for i in range(len(data)):\n",
    "    print(i)\n",
    "for i in data:\n",
    "    print(i)"
   ]
  },
  {
   "cell_type": "code",
   "execution_count": null,
   "metadata": {},
   "outputs": [],
   "source": [
    "for i in range(len(data)):\n",
    "    images = []\n",
    "    for j, _ in enumerate(data):\n",
    "        print(data.iloc[i, j])\n",
    "    print(\"\\n\")"
   ]
  },
  {
   "cell_type": "code",
   "execution_count": null,
   "metadata": {},
   "outputs": [],
   "source": [
    "data.head()"
   ]
  },
  {
   "cell_type": "code",
   "execution_count": null,
   "metadata": {},
   "outputs": [],
   "source": [
    "import torch\n",
    "from torchvision.io import read_image, ImageReadMode\n",
    "import numpy as np\n",
    "a = [1, 250]\n",
    "a = read_image(\"M:/Datasets/FaceRecognition/labels-5/100000/1.png\", ImageReadMode.RGB)\n",
    "# a = a.transpose()\n",
    "a = torch.transpose(a, 0, 1)\n",
    "a = torch.transpose(a, 1, 2)\n",
    "print(a.shape)\n",
    "# break\n",
    "a = np.array(a)\n",
    "import cv2\n",
    "cv2.imshow(\"img\", a)\n",
    "cv2.waitKey(0)\n",
    "cv2.destroyAllWindows()\n",
    "# print(cv2.imread(\"M:/Datasets/FaceRecognition/labels-5/100000/1.png\").shape)\n",
    "# print(torch.divide(a[0][0][0], 255, ))\n",
    "\n",
    "# a = torch.divide(torch.asarray(a, dtype = torch.float64), 255)\n",
    "# a = a/255.0\n",
    "# print(a.dtype)\n",
    "torch.set_printoptions(profile = \"full\")\n",
    "print(a.shape)\n",
    "print(a)\n",
    "# print(torch.asarray(a, dtype=torch.float64)/255)"
   ]
  },
  {
   "cell_type": "code",
   "execution_count": null,
   "metadata": {},
   "outputs": [],
   "source": [
    "import torch\n",
    "print(torch.clamp(torch.as_tensor([5, 0]), 1))"
   ]
  },
  {
   "cell_type": "code",
   "execution_count": null,
   "metadata": {},
   "outputs": [],
   "source": []
  },
  {
   "cell_type": "code",
   "execution_count": 4,
   "metadata": {},
   "outputs": [
    {
     "data": {
      "text/html": [
       "<div>\n",
       "<style scoped>\n",
       "    .dataframe tbody tr th:only-of-type {\n",
       "        vertical-align: middle;\n",
       "    }\n",
       "\n",
       "    .dataframe tbody tr th {\n",
       "        vertical-align: top;\n",
       "    }\n",
       "\n",
       "    .dataframe thead th {\n",
       "        text-align: right;\n",
       "    }\n",
       "</style>\n",
       "<table border=\"1\" class=\"dataframe\">\n",
       "  <thead>\n",
       "    <tr style=\"text-align: right;\">\n",
       "      <th></th>\n",
       "      <th>Anchor</th>\n",
       "      <th>Positive</th>\n",
       "      <th>Negative</th>\n",
       "    </tr>\n",
       "  </thead>\n",
       "  <tbody>\n",
       "    <tr>\n",
       "      <th>0</th>\n",
       "      <td>W:/Projects/FaceRecognition/Models/Datasets/Fa...</td>\n",
       "      <td>W:/Projects/FaceRecognition/Models/Datasets/Fa...</td>\n",
       "      <td>W:/Projects/FaceRecognition/Models/Datasets/Fa...</td>\n",
       "    </tr>\n",
       "    <tr>\n",
       "      <th>1</th>\n",
       "      <td>W:/Projects/FaceRecognition/Models/Datasets/Fa...</td>\n",
       "      <td>W:/Projects/FaceRecognition/Models/Datasets/Fa...</td>\n",
       "      <td>W:/Projects/FaceRecognition/Models/Datasets/Fa...</td>\n",
       "    </tr>\n",
       "    <tr>\n",
       "      <th>2</th>\n",
       "      <td>W:/Projects/FaceRecognition/Models/Datasets/Fa...</td>\n",
       "      <td>W:/Projects/FaceRecognition/Models/Datasets/Fa...</td>\n",
       "      <td>W:/Projects/FaceRecognition/Models/Datasets/Fa...</td>\n",
       "    </tr>\n",
       "    <tr>\n",
       "      <th>3</th>\n",
       "      <td>W:/Projects/FaceRecognition/Models/Datasets/Fa...</td>\n",
       "      <td>W:/Projects/FaceRecognition/Models/Datasets/Fa...</td>\n",
       "      <td>W:/Projects/FaceRecognition/Models/Datasets/Fa...</td>\n",
       "    </tr>\n",
       "    <tr>\n",
       "      <th>4</th>\n",
       "      <td>W:/Projects/FaceRecognition/Models/Datasets/Fa...</td>\n",
       "      <td>W:/Projects/FaceRecognition/Models/Datasets/Fa...</td>\n",
       "      <td>W:/Projects/FaceRecognition/Models/Datasets/Fa...</td>\n",
       "    </tr>\n",
       "  </tbody>\n",
       "</table>\n",
       "</div>"
      ],
      "text/plain": [
       "                                              Anchor  \\\n",
       "0  W:/Projects/FaceRecognition/Models/Datasets/Fa...   \n",
       "1  W:/Projects/FaceRecognition/Models/Datasets/Fa...   \n",
       "2  W:/Projects/FaceRecognition/Models/Datasets/Fa...   \n",
       "3  W:/Projects/FaceRecognition/Models/Datasets/Fa...   \n",
       "4  W:/Projects/FaceRecognition/Models/Datasets/Fa...   \n",
       "\n",
       "                                            Positive  \\\n",
       "0  W:/Projects/FaceRecognition/Models/Datasets/Fa...   \n",
       "1  W:/Projects/FaceRecognition/Models/Datasets/Fa...   \n",
       "2  W:/Projects/FaceRecognition/Models/Datasets/Fa...   \n",
       "3  W:/Projects/FaceRecognition/Models/Datasets/Fa...   \n",
       "4  W:/Projects/FaceRecognition/Models/Datasets/Fa...   \n",
       "\n",
       "                                            Negative  \n",
       "0  W:/Projects/FaceRecognition/Models/Datasets/Fa...  \n",
       "1  W:/Projects/FaceRecognition/Models/Datasets/Fa...  \n",
       "2  W:/Projects/FaceRecognition/Models/Datasets/Fa...  \n",
       "3  W:/Projects/FaceRecognition/Models/Datasets/Fa...  \n",
       "4  W:/Projects/FaceRecognition/Models/Datasets/Fa...  "
      ]
     },
     "execution_count": 4,
     "metadata": {},
     "output_type": "execute_result"
    }
   ],
   "source": [
    "path = \"Data/Dataset.csv\"\n",
    "import pandas as pd\n",
    "data = pd.read_csv(path)\n",
    "import numpy as np\n",
    "data.head(5)"
   ]
  },
  {
   "cell_type": "code",
   "execution_count": 5,
   "metadata": {},
   "outputs": [
    {
     "name": "stdout",
     "output_type": "stream",
     "text": [
      "77000\n",
      "77000\n",
      "[['W:/Projects/FaceRecognition/Models/Datasets/FaceRecognition/labels-5/100000/0.png'\n",
      "  'W:/Projects/FaceRecognition/Models/Datasets/FaceRecognition/labels-5/100000/5.png'\n",
      "  'W:/Projects/FaceRecognition/Models/Datasets/FaceRecognition/labels-5/114982/0.png']\n",
      " ['W:/Projects/FaceRecognition/Models/Datasets/FaceRecognition/labels-5/100000/0.png'\n",
      "  'W:/Projects/FaceRecognition/Models/Datasets/FaceRecognition/labels-5/100000/2.png'\n",
      "  'W:/Projects/FaceRecognition/Models/Datasets/FaceRecognition/labels-5/102712/1.png']\n",
      " ['W:/Projects/FaceRecognition/Models/Datasets/FaceRecognition/labels-5/100000/0.png'\n",
      "  'W:/Projects/FaceRecognition/Models/Datasets/FaceRecognition/labels-5/100000/3.png'\n",
      "  'W:/Projects/FaceRecognition/Models/Datasets/FaceRecognition/labels-5/122622/5.png']\n",
      " ...\n",
      " ['W:/Projects/FaceRecognition/Models/Datasets/FaceRecognition/labels-72/1898/0.png'\n",
      "  'W:/Projects/FaceRecognition/Models/Datasets/FaceRecognition/labels-72/1898/54.png'\n",
      "  'W:/Projects/FaceRecognition/Models/Datasets/FaceRecognition/labels-72/783/44.png']\n",
      " ['W:/Projects/FaceRecognition/Models/Datasets/FaceRecognition/labels-72/1898/0.png'\n",
      "  'W:/Projects/FaceRecognition/Models/Datasets/FaceRecognition/labels-72/1898/65.png'\n",
      "  'W:/Projects/FaceRecognition/Models/Datasets/FaceRecognition/labels-72/1029/1.png']\n",
      " ['W:/Projects/FaceRecognition/Models/Datasets/FaceRecognition/labels-72/1898/0.png'\n",
      "  'W:/Projects/FaceRecognition/Models/Datasets/FaceRecognition/labels-72/1898/48.png'\n",
      "  'W:/Projects/FaceRecognition/Models/Datasets/FaceRecognition/labels-72/18/14.png']]\n"
     ]
    }
   ],
   "source": [
    "data = data.values\n",
    "print(data.shape[0])\n",
    "print(len(data))\n",
    "print(data)"
   ]
  },
  {
   "cell_type": "code",
   "execution_count": null,
   "metadata": {},
   "outputs": [],
   "source": []
  },
  {
   "cell_type": "code",
   "execution_count": null,
   "metadata": {},
   "outputs": [],
   "source": [
    "from sklearn.model_selection import train_test_split\n",
    "a, b = train_test_split(data, test_size=0.2, shuffle=False)\n",
    "print(a.shape)\n",
    "print(b.shape)"
   ]
  },
  {
   "cell_type": "code",
   "execution_count": null,
   "metadata": {},
   "outputs": [],
   "source": []
  },
  {
   "cell_type": "code",
   "execution_count": 7,
   "metadata": {},
   "outputs": [
    {
     "name": "stdout",
     "output_type": "stream",
     "text": [
      "tensor([18.0000])\n",
      "tensor([10.3923])\n",
      "tensor([8.6535])\n",
      "tensor([7.8964])\n",
      "tensor([7.4744])\n",
      "\n",
      "\n",
      "tensor([4.0000])\n",
      "tensor([2.4495])\n",
      "tensor([2.1544])\n",
      "tensor([2.0598])\n",
      "tensor([2.0244])\n"
     ]
    }
   ],
   "source": [
    "import torch\n",
    "import torch.nn.functional as F\n",
    "\n",
    "# Assuming x and y are tensors representing two sets of points\n",
    "x = torch.tensor([[1.0, 2.0, 3.0]])\n",
    "y = torch.tensor([[7.0, 8.0, 9.0]])\n",
    "z = torch.tensor([[3.0, 1.0, 4.0]])\n",
    "\n",
    "# Compute Euclidean distance (equivalent to pairwise_distance with p=2)\n",
    "distance = F.pairwise_distance(x, y, p=1)\n",
    "print(distance)\n",
    "distance = F.pairwise_distance(x, y, p=2)\n",
    "print(distance)\n",
    "distance = F.pairwise_distance(x, y, p=3)\n",
    "print(distance)\n",
    "distance = F.pairwise_distance(x, y, p=4)\n",
    "print(distance)\n",
    "distance = F.pairwise_distance(x, y, p=5)\n",
    "print(distance)\n",
    "print(\"\\n\")\n",
    "distance = F.pairwise_distance(x, z, p=1)\n",
    "print(distance)\n",
    "distance = F.pairwise_distance(x, z, p=2)\n",
    "print(distance)\n",
    "distance = F.pairwise_distance(x, z, p=3)\n",
    "print(distance)\n",
    "distance = F.pairwise_distance(x, z, p=4)\n",
    "print(distance)\n",
    "distance = F.pairwise_distance(x, z, p=5)\n",
    "print(distance)\n"
   ]
  },
  {
   "cell_type": "code",
   "execution_count": null,
   "metadata": {},
   "outputs": [],
   "source": []
  },
  {
   "cell_type": "code",
   "execution_count": null,
   "metadata": {},
   "outputs": [],
   "source": []
  },
  {
   "cell_type": "code",
   "execution_count": null,
   "metadata": {},
   "outputs": [],
   "source": []
  },
  {
   "cell_type": "code",
   "execution_count": null,
   "metadata": {},
   "outputs": [],
   "source": []
  },
  {
   "cell_type": "code",
   "execution_count": 11,
   "metadata": {},
   "outputs": [],
   "source": [
    "import torch\n",
    "from torch import nn as nn\n",
    "from torch import optim as optim\n",
    "from torch.nn import functional as F\n",
    "from torch.optim import lr_scheduler\n",
    "\n",
    "\n",
    "class Model(nn.Module):\n",
    "    def __init__(self, in_channels, embedding_size, batch_size, p_dropout, p_linear_dropout):\n",
    "        super(Model, self).__init__()\n",
    "        self.conv = nn.Sequential(nn.Conv2d(in_channels, in_channels, kernel_size=1, padding=0),\n",
    "                                   nn.AvgPool2d(kernel_size=2, stride=2))\n",
    "        \n",
    "\n",
    "        self.b1 = nn.Conv2d(3, 64, kernel_size=1, padding=\"same\")\n",
    "        self.b2 = nn.Sequential(nn.Conv2d(in_channels, 92, kernel_size=1, padding=\"same\"),\n",
    "                                nn.Conv2d(92, 128, kernel_size=3, padding=\"same\"))\n",
    "        self.b3 = nn.Sequential(nn.Conv2d(in_channels, 24, kernel_size=1, padding=\"same\"),\n",
    "                                nn.Conv2d(24, 32, kernel_size=5, padding=\"same\"))\n",
    "        self.b4 = nn.Sequential(nn.MaxPool2d(kernel_size=3, padding=1, stride = 1),\n",
    "                                nn.Conv2d(in_channels, 32, kernel_size=1, padding=\"same\"))\n",
    "        \n",
    "\n",
    "        self.b5 = nn.Conv2d(256, 32, kernel_size=1, padding=\"same\")\n",
    "        self.b6 = nn.Sequential(nn.Conv2d(256, 128, kernel_size=1, padding=\"same\"),\n",
    "                                nn.Conv2d(128, 64, kernel_size=3, padding=\"same\"))\n",
    "        self.b7 = nn.Sequential(nn.Conv2d(256, 24, kernel_size=1, padding=\"same\"),\n",
    "                                nn.Conv2d(24, 16, kernel_size=5, padding=\"same\"))\n",
    "        self.b8 = nn.Sequential(nn.MaxPool2d(kernel_size=3, padding=1, stride = 1),\n",
    "                                nn.Conv2d(256, 16, kernel_size=1, padding=\"same\"))\n",
    "\n",
    "        self.dropout = nn.Dropout2d(p_dropout)\n",
    "\n",
    "        self.b5 = nn.Conv2d(256, 32, kernel_size=1, padding=\"same\")\n",
    "        self.b6 = nn.Sequential(nn.Conv2d(256, 128, kernel_size=1, padding=\"same\"),\n",
    "                                nn.Conv2d(128, 64, kernel_size=3, padding=\"same\"))\n",
    "        self.b7 = nn.Sequential(nn.Conv2d(256, 24, kernel_size=1, padding=\"same\"),\n",
    "                                nn.Conv2d(24, 16, kernel_size=5, padding=\"same\"))\n",
    "        self.b8 = nn.Sequential(nn.MaxPool2d(kernel_size=3, padding=1, stride = 1),\n",
    "                                nn.Conv2d(256, 16, kernel_size=1, padding=\"same\"))\n",
    "        \n",
    "        self.fc = nn.Sequential(nn.Linear(401408, 512, bias=True),\n",
    "                                nn.Dropout(p_linear_dropout),\n",
    "                                nn.Linear(512, embedding_size, bias=True))\n",
    "        \n",
    "        self.batch_size = batch_size\n",
    "        \n",
    "    def forward(self, x):\n",
    "        x = self.conv(x)\n",
    "\n",
    "        xb1 = self.b1(x)\n",
    "        xb2 = self.b2(x)\n",
    "        xb3 = self.b3(x)\n",
    "        xb4 = self.b4(x)\n",
    "        x = torch.cat([xb1, xb2, xb3, xb4], dim = 1)\n",
    "\n",
    "        x = self.dropout(x)\n",
    "\n",
    "        xb5 = self.b5(x)\n",
    "        xb6 = self.b6(x)\n",
    "        xb7 = self.b7(x)\n",
    "        xb8 = self.b8(x)\n",
    "        x = torch.cat([xb5, xb6, xb7, xb8], dim = 1)\n",
    "\n",
    "        x = self.dropout(x)\n",
    "\n",
    "        \n",
    "        x = x.view(self.batch_size, -1)\n",
    "        x = self.fc(x)\n",
    "\n",
    "        return x"
   ]
  },
  {
   "cell_type": "code",
   "execution_count": 13,
   "metadata": {},
   "outputs": [
    {
     "name": "stdout",
     "output_type": "stream",
     "text": [
      "tensor([[ 0.0239,  0.0732,  0.1490,  0.0123,  0.0208,  0.0492, -0.1234, -0.0815,\n",
      "          0.1561,  0.0435, -0.0483,  0.0423, -0.0674, -0.0273,  0.0601,  0.1457,\n",
      "         -0.1493,  0.0574,  0.0187,  0.1827,  0.0406,  0.1396,  0.0131,  0.0534,\n",
      "         -0.1483,  0.0182, -0.1108, -0.0984, -0.0748,  0.0761, -0.0199, -0.1126,\n",
      "         -0.1302,  0.1328, -0.1969, -0.0453, -0.0492,  0.0248, -0.1084, -0.1192,\n",
      "          0.1149,  0.0241, -0.1722,  0.0532,  0.0424, -0.0042, -0.0999,  0.1342,\n",
      "          0.1198, -0.0740,  0.0639,  0.0794,  0.0367, -0.0343, -0.0472,  0.1189,\n",
      "         -0.0551,  0.1241,  0.0905, -0.0604,  0.0863, -0.0172,  0.0117, -0.1287,\n",
      "          0.0582, -0.0742, -0.0392,  0.1068, -0.0021,  0.0420, -0.1933, -0.0401,\n",
      "          0.1983,  0.0848, -0.0293,  0.2292,  0.1509, -0.1337,  0.0344, -0.2019,\n",
      "          0.1708, -0.0746,  0.1380, -0.0310,  0.0189,  0.1341, -0.2015, -0.0515,\n",
      "          0.1205, -0.0339, -0.2414, -0.2466,  0.0597,  0.0040, -0.0242, -0.1615,\n",
      "          0.0313,  0.0380, -0.2106,  0.0041, -0.1925, -0.2952,  0.1666, -0.0111,\n",
      "          0.0981, -0.0964, -0.0976, -0.1768,  0.0811,  0.1702, -0.1043,  0.0830,\n",
      "         -0.0797, -0.1086, -0.1056, -0.0959, -0.2037, -0.0706,  0.0477,  0.0699,\n",
      "          0.0476,  0.1823,  0.0208,  0.1367, -0.2662,  0.0176, -0.3004,  0.1198]],\n",
      "       grad_fn=<AddmmBackward0>)\n",
      "Output shape: torch.Size([1, 128])\n"
     ]
    }
   ],
   "source": [
    "import torch\n",
    "\n",
    "# Assuming your model expects input images with 3 channels and size 256x256\n",
    "batch_size = 1  # You can adjust the batch size\n",
    "in_channels = 3\n",
    "image_size = (112, 112)\n",
    "\n",
    "# Create a random input tensor\n",
    "sample_input = torch.rand((batch_size, in_channels, *image_size))\n",
    "\n",
    "# Instantiate your model\n",
    "embedding_size = 128  # You can adjust the embedding size\n",
    "p_dropout = 0.5\n",
    "p_linear_dropout = 0.3\n",
    "model = Model(in_channels, embedding_size, batch_size, p_dropout, p_linear_dropout)\n",
    "\n",
    "# Pass the input through the model\n",
    "output = model(sample_input)\n",
    "print(output)\n",
    "# Print the output shape\n",
    "print(\"Output shape:\", output.shape)\n"
   ]
  },
  {
   "cell_type": "code",
   "execution_count": null,
   "metadata": {},
   "outputs": [],
   "source": []
  },
  {
   "cell_type": "code",
   "execution_count": null,
   "metadata": {},
   "outputs": [],
   "source": []
  },
  {
   "cell_type": "code",
   "execution_count": 7,
   "metadata": {},
   "outputs": [
    {
     "name": "stdout",
     "output_type": "stream",
     "text": [
      "tensor([[10.3923]])\n"
     ]
    }
   ],
   "source": [
    "import torch\n",
    "\n",
    "# Assuming x and y are tensors representing two sets of points\n",
    "x = torch.tensor([[1.0, 2.0, 3.0]])\n",
    "y = torch.tensor([[7.0, 8.0, 9.0]])\n",
    "\n",
    "# Compute Minkowski distance with p=2 (equivalent to Euclidean distance)\n",
    "distance = torch.cdist(x, y, p=2)\n",
    "print(distance)\n"
   ]
  },
  {
   "cell_type": "markdown",
   "metadata": {},
   "source": []
  },
  {
   "cell_type": "code",
   "execution_count": null,
   "metadata": {},
   "outputs": [],
   "source": []
  },
  {
   "cell_type": "code",
   "execution_count": null,
   "metadata": {},
   "outputs": [],
   "source": []
  },
  {
   "cell_type": "code",
   "execution_count": 17,
   "metadata": {},
   "outputs": [
    {
     "name": "stdout",
     "output_type": "stream",
     "text": [
      "Current Device: cuda\n"
     ]
    }
   ],
   "source": [
    "import torch\n",
    "\n",
    "# Get the current device\n",
    "current_device = torch.device(\"cuda\" if torch.cuda.is_available() else \"cpu\")\n",
    "\n",
    "# Print the current device\n",
    "print(\"Current Device:\", current_device)\n",
    "\n",
    "# Create a tensor on the current device\n",
    "tensor_on_current_device = torch.tensor([1, 2, 3]).to(current_device)\n",
    "\n",
    "# Alternatively, you can directly use the current device without explicitly creating it\n",
    "tensor_on_current_device = torch.tensor([1, 2, 3]).to(device=current_device)\n"
   ]
  },
  {
   "cell_type": "code",
   "execution_count": 18,
   "metadata": {},
   "outputs": [
    {
     "name": "stdout",
     "output_type": "stream",
     "text": [
      "Cost after iteration 0: 0.6936251451619984\n",
      "Cost after iteration 100: 0.687809722077625\n",
      "Cost after iteration 200: 0.6841938090937976\n",
      "Cost after iteration 300: 0.6819354593658423\n",
      "Cost after iteration 400: 0.6805177357333827\n",
      "Cost after iteration 500: 0.6796230394755856\n",
      "Cost after iteration 600: 0.6790555190242802\n",
      "Cost after iteration 700: 0.6786937804134245\n",
      "Cost after iteration 800: 0.6784621558914391\n",
      "Cost after iteration 900: 0.6783132124880311\n",
      "Predictions: [[0.65181593 0.59161964 0.51523502 0.60735181 0.50964031 0.5207633\n",
      "  0.62791032 0.54888811 0.66498369 0.58999598]]\n"
     ]
    }
   ],
   "source": []
  },
  {
   "cell_type": "code",
   "execution_count": null,
   "metadata": {},
   "outputs": [],
   "source": [
    "data.shape"
   ]
  },
  {
   "cell_type": "code",
   "execution_count": null,
   "metadata": {},
   "outputs": [],
   "source": [
    "# data = data[0:2, :]\n",
    "print(data.shape)\n",
    "np.random.shuffle(data)\n",
    "print(data.shape)\n",
    "print(data[0:70000].shape)"
   ]
  },
  {
   "cell_type": "code",
   "execution_count": null,
   "metadata": {},
   "outputs": [],
   "source": [
    "import numpy as np\n",
    "\n",
    "# Assuming 'data' is your NumPy array\n",
    "data = np.array([[1, 2, 3],\n",
    "                 [4, 5, 6],\n",
    "                 [7, 8, 9]])\n",
    "\n",
    "# Shuffle the array along the first axis (rows)\n",
    "np.random.shuffle(data)\n",
    "\n",
    "# Now 'data' is shuffled by rows\n",
    "print(data)\n"
   ]
  },
  {
   "cell_type": "code",
   "execution_count": 16,
   "metadata": {},
   "outputs": [
    {
     "name": "stderr",
     "output_type": "stream",
     "text": [
      "[1/3]: 100%|██████████| 3/3 [00:03<00:00,  1.00s/it]\n",
      "100%|██████████| 3/3 [00:03<00:00,  1.00s/it]\n"
     ]
    },
    {
     "name": "stdout",
     "output_type": "stream",
     "text": [
      "\n",
      "\n"
     ]
    },
    {
     "name": "stderr",
     "output_type": "stream",
     "text": [
      "[2/3]: 100%|██████████| 3/3 [00:03<00:00,  1.00s/it]\n",
      "100%|██████████| 3/3 [00:03<00:00,  1.00s/it]\n"
     ]
    },
    {
     "name": "stdout",
     "output_type": "stream",
     "text": [
      "\n",
      "\n"
     ]
    },
    {
     "name": "stderr",
     "output_type": "stream",
     "text": [
      "[3/3]: 100%|██████████| 3/3 [00:03<00:00,  1.00s/it]\n",
      "100%|██████████| 3/3 [00:03<00:00,  1.00s/it]"
     ]
    },
    {
     "name": "stdout",
     "output_type": "stream",
     "text": [
      "\n",
      "\n"
     ]
    },
    {
     "name": "stderr",
     "output_type": "stream",
     "text": [
      "\n"
     ]
    }
   ],
   "source": [
    "from tqdm import tqdm\n",
    "import time\n",
    "for i in range(3):\n",
    "    loop = tqdm(range(3), leave=True, total=3)\n",
    "    for j in loop:\n",
    "        time.sleep(1)\n",
    "        loop.set_description(f\"[{i+1}/{3}]\")\n",
    "        # loop.set_postfix(batch=batch, loss=loss.item())\n",
    "    for k in tqdm(range(3), leave=True, total=3):\n",
    "        time.sleep(1)\n",
    "    print(\"\\n\")\n"
   ]
  },
  {
   "cell_type": "code",
   "execution_count": 9,
   "metadata": {},
   "outputs": [
    {
     "name": "stdout",
     "output_type": "stream",
     "text": [
      "1\n",
      "2\n",
      "3\n",
      "4\n",
      "5\n",
      "6\n",
      "7\n",
      "8\n",
      "9\n",
      "10\n"
     ]
    }
   ],
   "source": [
    "for i in range(1, 11):\n",
    "    print(i)"
   ]
  },
  {
   "cell_type": "code",
   "execution_count": null,
   "metadata": {},
   "outputs": [],
   "source": []
  },
  {
   "cell_type": "code",
   "execution_count": 19,
   "metadata": {},
   "outputs": [
    {
     "data": {
      "image/png": "[encoded data removed]",
      "text/plain": [
       "<Figure size 640x480 with 1 Axes>"
      ]
     },
     "metadata": {},
     "output_type": "display_data"
    }
   ],
   "source": [
    "import torch\n",
    "import torch.nn as nn\n",
    "import torch.optim as optim\n",
    "import matplotlib.pyplot as plt\n",
    "from IPython.display import display, clear_output\n",
    "import time\n",
    "\n",
    "# Define a simple neural network and loss function\n",
    "class SimpleModel(nn.Module):\n",
    "    def __init__(self):\n",
    "        super(SimpleModel, self).__init__()\n",
    "        self.fc = nn.Linear(1, 1)\n",
    "\n",
    "    def forward(self, x):\n",
    "        return self.fc(x)\n",
    "\n",
    "# Function to train the model and visualize the loss dynamically\n",
    "def train_and_visualize_live(model, criterion, optimizer, num_epochs=100):\n",
    "    # Initialize the plot\n",
    "    plt.ion()  # Turn on interactive mode\n",
    "    fig, ax = plt.subplots()\n",
    "    ax.set_xlabel('Epoch')\n",
    "    ax.set_ylabel('Loss')\n",
    "    ax.set_title('Training Loss vs. Epochs')\n",
    "    line, = ax.plot([], [], marker='o', color='b')\n",
    "    plt.show()\n",
    "\n",
    "    # Training loop\n",
    "    for epoch in range(num_epochs):\n",
    "        # Generate dummy data\n",
    "        inputs = torch.rand((100, 1))\n",
    "        targets = 3 * inputs + 2 + 0.1 * torch.randn_like(inputs)\n",
    "\n",
    "        # Forward pass\n",
    "        outputs = model(inputs)\n",
    "        loss = criterion(outputs, targets)\n",
    "\n",
    "        # Backward pass and optimization\n",
    "        optimizer.zero_grad()\n",
    "        loss.backward()\n",
    "        optimizer.step()\n",
    "\n",
    "        # Update the plot dynamically\n",
    "        line.set_xdata(range(epoch + 1))\n",
    "        line.set_ydata([loss.item()] * (epoch + 1))\n",
    "        ax.relim()\n",
    "        ax.autoscale_view()\n",
    "\n",
    "        # Update the plot in the notebook\n",
    "        clear_output(wait=True)\n",
    "        display(fig)\n",
    "\n",
    "        # Pause to visualize\n",
    "        time.sleep(0.1)\n",
    "\n",
    "    # Turn off interactive mode after training\n",
    "    plt.ioff()\n",
    "    plt.show()\n",
    "\n",
    "# Instantiate the model, loss function, and optimizer\n",
    "model = SimpleModel()\n",
    "criterion = nn.MSELoss()\n",
    "optimizer = optim.SGD(model.parameters(), lr=0.01)\n",
    "\n",
    "# Train the model and visualize the loss dynamically\n",
    "train_and_visualize_live(model, criterion, optimizer)\n"
   ]
  },
  {
   "cell_type": "code",
   "execution_count": 20,
   "metadata": {},
   "outputs": [],
   "source": [
    "import torch\n",
    "import torch.nn as nn\n",
    "import torch.optim as optim\n",
    "import matplotlib.pyplot as plt\n",
    "import cv2\n",
    "\n",
    "# Define a simple neural network and loss function\n",
    "class SimpleModel(nn.Module):\n",
    "    def __init__(self):\n",
    "        super(SimpleModel, self).__init__()\n",
    "        self.fc = nn.Linear(1, 1)\n",
    "\n",
    "    def forward(self, x):\n",
    "        return self.fc(x)\n",
    "\n",
    "# Function to train the model and visualize the loss dynamically\n",
    "def train_and_visualize(model, criterion, optimizer, num_epochs=100, video_path='loss_video.mp4'):\n",
    "    # Set up video writer\n",
    "    fourcc = cv2.VideoWriter_fourcc(*'mp4v')\n",
    "    out = cv2.VideoWriter(video_path, fourcc, 2.0, (800, 600))\n",
    "\n",
    "    # Training loop\n",
    "    for epoch in range(num_epochs):\n",
    "        # Generate dummy data\n",
    "        inputs = torch.rand((100, 1))\n",
    "        targets = 3 * inputs + 2 + 0.1 * torch.randn_like(inputs)\n",
    "\n",
    "        # Forward pass\n",
    "        outputs = model(inputs)\n",
    "        loss = criterion(outputs, targets)\n",
    "\n",
    "        # Backward pass and optimization\n",
    "        optimizer.zero_grad()\n",
    "        loss.backward()\n",
    "        optimizer.step()\n",
    "\n",
    "        # Plot and save frame\n",
    "        plt.plot(epoch, loss.item(), marker='o', color='b')\n",
    "        plt.xlabel('Epoch')\n",
    "        plt.ylabel('Loss')\n",
    "        plt.title('Training Loss vs. Epochs')\n",
    "        plt.savefig('temp.png')\n",
    "        img = cv2.imread('temp.png')\n",
    "        out.write(img)\n",
    "\n",
    "    # Release video writer\n",
    "    out.release()\n",
    "\n",
    "# Instantiate the model, loss function, and optimizer\n",
    "model = SimpleModel()\n",
    "criterion = nn.MSELoss()\n",
    "optimizer = optim.SGD(model.parameters(), lr=0.01)\n",
    "\n",
    "# Train the model and visualize the loss dynamically\n",
    "train_and_visualize(model, criterion, optimizer)\n"
   ]
  },
  {
   "cell_type": "code",
   "execution_count": null,
   "metadata": {},
   "outputs": [],
   "source": []
  },
  {
   "cell_type": "code",
   "execution_count": null,
   "metadata": {},
   "outputs": [],
   "source": []
  },
  {
   "cell_type": "code",
   "execution_count": null,
   "metadata": {},
   "outputs": [],
   "source": []
  },
  {
   "cell_type": "code",
   "execution_count": null,
   "metadata": {},
   "outputs": [],
   "source": []
  },
  {
   "cell_type": "code",
   "execution_count": null,
   "metadata": {},
   "outputs": [],
   "source": []
  },
  {
   "cell_type": "code",
   "execution_count": null,
   "metadata": {},
   "outputs": [],
   "source": []
  },
  {
   "cell_type": "code",
   "execution_count": null,
   "metadata": {},
   "outputs": [],
   "source": []
  }
 ],
 "metadata": {
  "kernelspec": {
   "display_name": "Python 3",
   "language": "python",
   "name": "python3"
  },
  "language_info": {
   "codemirror_mode": {
    "name": "ipython",
    "version": 3
   },
   "file_extension": ".py",
   "mimetype": "text/x-python",
   "name": "python",
   "nbconvert_exporter": "python",
   "pygments_lexer": "ipython3",
   "version": "3.11.4"
  }
 },
 "nbformat": 4,
 "nbformat_minor": 2
}
